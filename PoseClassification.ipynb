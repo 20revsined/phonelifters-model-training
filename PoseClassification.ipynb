{
  "nbformat": 4,
  "nbformat_minor": 0,
  "metadata": {
    "colab": {
      "provenance": []
    },
    "kernelspec": {
      "name": "python3",
      "display_name": "Python 3"
    },
    "language_info": {
      "name": "python"
    }
  },
  "cells": [
    {
      "cell_type": "code",
      "execution_count": 1,
      "metadata": {
        "colab": {
          "base_uri": "https://localhost:8080/"
        },
        "id": "o-sO-mdWTJ42",
        "outputId": "5c233c2c-bace-497b-e380-2cd68cb21b49"
      },
      "outputs": [
        {
          "output_type": "stream",
          "name": "stdout",
          "text": [
            "Drive already mounted at /content/drive; to attempt to forcibly remount, call drive.mount(\"/content/drive\", force_remount=True).\n"
          ]
        }
      ],
      "source": [
        "import pandas as pd\n",
        "from google.colab import drive\n",
        "drive.mount('/content/drive')"
      ]
    },
    {
      "cell_type": "code",
      "source": [
        "# Read the CSV file into a pandas DataFrame\n",
        "correct_form = pd.read_csv(\"/content/drive/MyDrive/Powerlift Phone/Training Data - Correct Curl.csv\")\n",
        "\n",
        "# Extract values from the first column\n",
        "first_column_values = correct_form.iloc[:, 0]\n",
        "\n",
        "# Extract text after the last space for each value\n",
        "processed_values = first_column_values.apply(lambda x: x.split()[-1] if isinstance(x, str) else x)\n",
        "\n",
        "# Update the DataFrame with the processed values\n",
        "correct_form.iloc[:, 0] = processed_values\n",
        "\n",
        "# NOW WITH INCORRECT VALUES\n",
        "# Read the CSV file into a pandas DataFrame\n",
        "incorrect_form = pd.read_csv(\"/content/drive/MyDrive/Powerlift Phone/Training Data - Incorrect Movement - CSV.csv\")\n",
        "\n",
        "# Extract values from the first column\n",
        "incorrect_first_column_values = incorrect_form.iloc[:, 0]\n",
        "\n",
        "# Extract text after the last space for each value\n",
        "processed_values = incorrect_first_column_values.apply(lambda x: x.split()[-1] if isinstance(x, str) else x)\n",
        "\n",
        "# In processed_values, delete the first character of each element\n",
        "processed_values = processed_values.str[1:]\n",
        "\n",
        "# Update the DataFrame with the processed values\n",
        "incorrect_form.iloc[:, 0] = processed_values\n",
        "\n",
        "# In incorrect_form, delete the last character of every element in the last column\n",
        "incorrect_form.iloc[:, -1] = incorrect_form.iloc[:, -1].str[:-1]"
      ],
      "metadata": {
        "id": "1vD53MVdTgSw"
      },
      "execution_count": 2,
      "outputs": []
    },
    {
      "cell_type": "code",
      "source": [
        "print(\"CORRECT FORM: \")\n",
        "print(correct_form)\n",
        "print(\"------------------------------\")\n",
        "print(\"INCORRECT FORM:\")\n",
        "print(incorrect_form)"
      ],
      "metadata": {
        "id": "gEDq0PJVVMUt"
      },
      "execution_count": null,
      "outputs": []
    },
    {
      "cell_type": "code",
      "source": [
        "import numpy as np\n",
        "import tensorflow as tf\n",
        "\n",
        "X = np.asarray(pd.concat([correct_form, incorrect_form], axis=0, ignore_index=True).astype(float))\n",
        "\n",
        "Y = np.concatenate([np.ones(len(correct_form)), np.zeros(len(incorrect_form))])"
      ],
      "metadata": {
        "id": "sqSH9o1p0tKB"
      },
      "execution_count": 3,
      "outputs": []
    },
    {
      "cell_type": "code",
      "source": [
        "from sklearn.model_selection import train_test_split\n",
        "x_train, x_test, y_train, y_test = train_test_split(X, Y, test_size=0.15, shuffle= True)"
      ],
      "metadata": {
        "id": "qGlPBhLw_J-I"
      },
      "execution_count": 4,
      "outputs": []
    },
    {
      "cell_type": "code",
      "source": [
        "from tensorflow.keras import models, layers\n",
        "\n",
        "def build_binary_classification_model(input_size):\n",
        "    model = models.Sequential()\n",
        "    model.add(layers.Dense(64, activation='relu', input_dim=input_size))\n",
        "    model.add(layers.Dense(32, activation='relu'))\n",
        "    model.add(layers.Dense(1, activation='sigmoid'))  # Binary classification requires a sigmoid activation\n",
        "    model.compile(optimizer='adam', loss='binary_crossentropy', metrics=['accuracy'])\n",
        "    return model\n",
        "\n",
        "# Model 1\n",
        "model_1 = build_binary_classification_model(input_size=34)\n",
        "model_1.fit(x_train, y_train, epochs=10, batch_size=32)\n",
        "\n",
        "# Model 2 with a different architecture\n",
        "model_2 = models.Sequential()\n",
        "model_2.add(layers.Dense(128, activation='relu', input_dim=34))\n",
        "model_2.add(layers.Dense(64, activation='relu'))\n",
        "model_2.add(layers.Dense(1, activation='sigmoid'))\n",
        "model_2.compile(optimizer='adam', loss='binary_crossentropy', metrics=['accuracy'])\n",
        "model_2.fit(x_train, y_train, epochs=10, batch_size=32)"
      ],
      "metadata": {
        "id": "WvN6gbsNBKPP",
        "colab": {
          "base_uri": "https://localhost:8080/"
        },
        "outputId": "9d6efe73-c8c6-4d1c-90f6-a8d77009732f"
      },
      "execution_count": 5,
      "outputs": [
        {
          "output_type": "stream",
          "name": "stdout",
          "text": [
            "Epoch 1/10\n",
            "98/98 [==============================] - 2s 4ms/step - loss: 12.9337 - accuracy: 0.8509\n",
            "Epoch 2/10\n",
            "98/98 [==============================] - 0s 3ms/step - loss: 2.4048 - accuracy: 0.9367\n",
            "Epoch 3/10\n",
            "98/98 [==============================] - 0s 4ms/step - loss: 1.6454 - accuracy: 0.9444\n",
            "Epoch 4/10\n",
            "98/98 [==============================] - 0s 4ms/step - loss: 1.3555 - accuracy: 0.9499\n",
            "Epoch 5/10\n",
            "98/98 [==============================] - 0s 4ms/step - loss: 0.9898 - accuracy: 0.9573\n",
            "Epoch 6/10\n",
            "98/98 [==============================] - 0s 3ms/step - loss: 0.7622 - accuracy: 0.9579\n",
            "Epoch 7/10\n",
            "98/98 [==============================] - 0s 4ms/step - loss: 0.8073 - accuracy: 0.9605\n",
            "Epoch 8/10\n",
            "98/98 [==============================] - 0s 3ms/step - loss: 0.6588 - accuracy: 0.9621\n",
            "Epoch 9/10\n",
            "98/98 [==============================] - 0s 4ms/step - loss: 0.8757 - accuracy: 0.9582\n",
            "Epoch 10/10\n",
            "98/98 [==============================] - 0s 2ms/step - loss: 0.5585 - accuracy: 0.9676\n",
            "Epoch 1/10\n",
            "98/98 [==============================] - 1s 2ms/step - loss: 6.9333 - accuracy: 0.8995\n",
            "Epoch 2/10\n",
            "98/98 [==============================] - 0s 2ms/step - loss: 2.6912 - accuracy: 0.9329\n",
            "Epoch 3/10\n",
            "98/98 [==============================] - 0s 2ms/step - loss: 1.8173 - accuracy: 0.9470\n",
            "Epoch 4/10\n",
            "98/98 [==============================] - 0s 2ms/step - loss: 2.2786 - accuracy: 0.9396\n",
            "Epoch 5/10\n",
            "98/98 [==============================] - 0s 2ms/step - loss: 0.8792 - accuracy: 0.9605\n",
            "Epoch 6/10\n",
            "98/98 [==============================] - 0s 2ms/step - loss: 0.5762 - accuracy: 0.9711\n",
            "Epoch 7/10\n",
            "98/98 [==============================] - 0s 2ms/step - loss: 0.4403 - accuracy: 0.9717\n",
            "Epoch 8/10\n",
            "98/98 [==============================] - 0s 2ms/step - loss: 0.6962 - accuracy: 0.9605\n",
            "Epoch 9/10\n",
            "98/98 [==============================] - 0s 2ms/step - loss: 0.5157 - accuracy: 0.9653\n",
            "Epoch 10/10\n",
            "98/98 [==============================] - 0s 2ms/step - loss: 0.3780 - accuracy: 0.9717\n"
          ]
        },
        {
          "output_type": "execute_result",
          "data": {
            "text/plain": [
              "<keras.src.callbacks.History at 0x7d95fc1fad40>"
            ]
          },
          "metadata": {},
          "execution_count": 5
        }
      ]
    },
    {
      "cell_type": "code",
      "source": [
        "loss_1, accuracy_1 = model_1.evaluate(x_test, y_test)\n",
        "print(f'Model 1 - Test Accuracy: {accuracy_1 * 100:.2f}%')\n",
        "\n",
        "loss_2, accuracy_2 = model_2.evaluate(x_test, y_test)\n",
        "print(f'Model 2 - Test Accuracy: {accuracy_2 * 100:.2f}%')\n"
      ],
      "metadata": {
        "colab": {
          "base_uri": "https://localhost:8080/"
        },
        "id": "lQ-Q3CdtEv8R",
        "outputId": "4be1c247-900f-4173-c93d-7eaa41c5b34a"
      },
      "execution_count": 6,
      "outputs": [
        {
          "output_type": "stream",
          "name": "stdout",
          "text": [
            "18/18 [==============================] - 0s 2ms/step - loss: 1.3159 - accuracy: 0.9509\n",
            "Model 1 - Test Accuracy: 95.09%\n",
            "18/18 [==============================] - 0s 2ms/step - loss: 1.8488 - accuracy: 0.9364\n",
            "Model 2 - Test Accuracy: 93.64%\n"
          ]
        }
      ]
    },
    {
      "cell_type": "code",
      "source": [
        "converter_1 = tf.lite.TFLiteConverter.from_keras_model(model_1)\n",
        "tflite_model_1 = converter_1.convert()\n",
        "with open('model_1.tflite', 'wb') as f:\n",
        "    f.write(tflite_model_1)\n",
        "\n",
        "# Convert and save model 2\n",
        "converter_2 = tf.lite.TFLiteConverter.from_keras_model(model_2)\n",
        "tflite_model_2 = converter_2.convert()\n",
        "with open('model_2.tflite', 'wb') as f:\n",
        "    f.write(tflite_model_2)"
      ],
      "metadata": {
        "id": "XVngZXwXFuXa"
      },
      "execution_count": 10,
      "outputs": []
    },
    {
      "cell_type": "code",
      "source": [
        "\n",
        "\n",
        "print(x_train[0])"
      ],
      "metadata": {
        "colab": {
          "base_uri": "https://localhost:8080/"
        },
        "id": "VBCeeYn3Q4PP",
        "outputId": "8d1be6dc-f9ad-4303-d841-43422ce282db"
      },
      "execution_count": 18,
      "outputs": [
        {
          "output_type": "stream",
          "name": "stdout",
          "text": [
            "[   0.         0.       360.4414   137.40208    0.         0.\n",
            "  480.23563  152.89265    0.         0.       604.53687  470.27496\n",
            "  335.33374  488.8492   653.7289   837.8279     0.         0.\n",
            "  589.8475  1138.1897     0.         0.       554.59985 1127.2255\n",
            "  400.2505  1115.6862   582.7978  1453.4626     0.         0.\n",
            "    0.         0.       466.42474 1585.9644 ]\n"
          ]
        }
      ]
    },
    {
      "cell_type": "code",
      "source": [],
      "metadata": {
        "id": "f4qAYRoPz-LP"
      },
      "execution_count": null,
      "outputs": []
    }
  ]
}